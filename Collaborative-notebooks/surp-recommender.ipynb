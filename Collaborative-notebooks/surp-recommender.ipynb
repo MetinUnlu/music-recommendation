{
 "cells": [
  {
   "cell_type": "code",
   "execution_count": 88,
   "metadata": {},
   "outputs": [],
   "source": [
    "import pandas as pd\n",
    "\n",
    "\n",
    "df = pd.read_csv('data/normalized_filtered_user_listening.csv', usecols=lambda column: column not in ['Unnamed: 0'])"
   ]
  },
  {
   "cell_type": "code",
   "execution_count": 89,
   "metadata": {},
   "outputs": [
    {
     "data": {
      "text/plain": [
       "count    3.651141e+06\n",
       "mean     4.704546e-01\n",
       "std      3.569481e-01\n",
       "min      5.373455e-04\n",
       "25%      1.538462e-01\n",
       "50%      3.333333e-01\n",
       "75%      9.000000e-01\n",
       "max      1.000000e+00\n",
       "Name: normalized_playcount, dtype: float64"
      ]
     },
     "execution_count": 89,
     "metadata": {},
     "output_type": "execute_result"
    }
   ],
   "source": [
    "df['normalized_playcount'].describe()"
   ]
  },
  {
   "cell_type": "markdown",
   "metadata": {},
   "source": [
    "### Surprise library does not use sparse matrix, thus number of data taken is limited"
   ]
  },
  {
   "cell_type": "code",
   "execution_count": 90,
   "metadata": {},
   "outputs": [
    {
     "data": {
      "text/html": [
       "<div>\n",
       "<style scoped>\n",
       "    .dataframe tbody tr th:only-of-type {\n",
       "        vertical-align: middle;\n",
       "    }\n",
       "\n",
       "    .dataframe tbody tr th {\n",
       "        vertical-align: top;\n",
       "    }\n",
       "\n",
       "    .dataframe thead th {\n",
       "        text-align: right;\n",
       "    }\n",
       "</style>\n",
       "<table border=\"1\" class=\"dataframe\">\n",
       "  <thead>\n",
       "    <tr style=\"text-align: right;\">\n",
       "      <th></th>\n",
       "      <th>user_id</th>\n",
       "      <th>track_id</th>\n",
       "      <th>normalized_playcount</th>\n",
       "    </tr>\n",
       "  </thead>\n",
       "  <tbody>\n",
       "    <tr>\n",
       "      <th>0</th>\n",
       "      <td>b80344d063b5ccb3212f76538f3d9e43d87dca9e</td>\n",
       "      <td>TRAAHSY128F147BB5C</td>\n",
       "      <td>1.000000</td>\n",
       "    </tr>\n",
       "    <tr>\n",
       "      <th>1</th>\n",
       "      <td>85c1f87fea955d09b4bec2e36aee110927aedf9a</td>\n",
       "      <td>TRPGYLT128F428AD02</td>\n",
       "      <td>1.000000</td>\n",
       "    </tr>\n",
       "    <tr>\n",
       "      <th>2</th>\n",
       "      <td>bd4c6e843f00bd476847fb75c47b4fb430a06856</td>\n",
       "      <td>TRWCEKE128F93191BE</td>\n",
       "      <td>1.000000</td>\n",
       "    </tr>\n",
       "    <tr>\n",
       "      <th>3</th>\n",
       "      <td>4bd88bfb25263a75bbdd467e74018f4ae570e5df</td>\n",
       "      <td>TRDSFKT12903CB510F</td>\n",
       "      <td>0.500000</td>\n",
       "    </tr>\n",
       "    <tr>\n",
       "      <th>4</th>\n",
       "      <td>4bd88bfb25263a75bbdd467e74018f4ae570e5df</td>\n",
       "      <td>TRRELZC128E078ED67</td>\n",
       "      <td>1.000000</td>\n",
       "    </tr>\n",
       "    <tr>\n",
       "      <th>...</th>\n",
       "      <td>...</td>\n",
       "      <td>...</td>\n",
       "      <td>...</td>\n",
       "    </tr>\n",
       "    <tr>\n",
       "      <th>9995</th>\n",
       "      <td>5968a59e582f434a223b3786cd51c9f4690b38d4</td>\n",
       "      <td>TRDAEMU128F92C5A76</td>\n",
       "      <td>1.000000</td>\n",
       "    </tr>\n",
       "    <tr>\n",
       "      <th>9996</th>\n",
       "      <td>2568aff0ee8deecab033c40a8198efd39bfd2b38</td>\n",
       "      <td>TRZGTZF12903CC562D</td>\n",
       "      <td>0.153846</td>\n",
       "    </tr>\n",
       "    <tr>\n",
       "      <th>9997</th>\n",
       "      <td>2568aff0ee8deecab033c40a8198efd39bfd2b38</td>\n",
       "      <td>TRWSJPN12903CB2CC6</td>\n",
       "      <td>0.076923</td>\n",
       "    </tr>\n",
       "    <tr>\n",
       "      <th>9998</th>\n",
       "      <td>2568aff0ee8deecab033c40a8198efd39bfd2b38</td>\n",
       "      <td>TRFHJOI128EF34BFAF</td>\n",
       "      <td>0.615385</td>\n",
       "    </tr>\n",
       "    <tr>\n",
       "      <th>9999</th>\n",
       "      <td>2568aff0ee8deecab033c40a8198efd39bfd2b38</td>\n",
       "      <td>TRVVOMA128F426F646</td>\n",
       "      <td>1.000000</td>\n",
       "    </tr>\n",
       "  </tbody>\n",
       "</table>\n",
       "<p>10000 rows × 3 columns</p>\n",
       "</div>"
      ],
      "text/plain": [
       "                                       user_id            track_id  \\\n",
       "0     b80344d063b5ccb3212f76538f3d9e43d87dca9e  TRAAHSY128F147BB5C   \n",
       "1     85c1f87fea955d09b4bec2e36aee110927aedf9a  TRPGYLT128F428AD02   \n",
       "2     bd4c6e843f00bd476847fb75c47b4fb430a06856  TRWCEKE128F93191BE   \n",
       "3     4bd88bfb25263a75bbdd467e74018f4ae570e5df  TRDSFKT12903CB510F   \n",
       "4     4bd88bfb25263a75bbdd467e74018f4ae570e5df  TRRELZC128E078ED67   \n",
       "...                                        ...                 ...   \n",
       "9995  5968a59e582f434a223b3786cd51c9f4690b38d4  TRDAEMU128F92C5A76   \n",
       "9996  2568aff0ee8deecab033c40a8198efd39bfd2b38  TRZGTZF12903CC562D   \n",
       "9997  2568aff0ee8deecab033c40a8198efd39bfd2b38  TRWSJPN12903CB2CC6   \n",
       "9998  2568aff0ee8deecab033c40a8198efd39bfd2b38  TRFHJOI128EF34BFAF   \n",
       "9999  2568aff0ee8deecab033c40a8198efd39bfd2b38  TRVVOMA128F426F646   \n",
       "\n",
       "      normalized_playcount  \n",
       "0                 1.000000  \n",
       "1                 1.000000  \n",
       "2                 1.000000  \n",
       "3                 0.500000  \n",
       "4                 1.000000  \n",
       "...                    ...  \n",
       "9995              1.000000  \n",
       "9996              0.153846  \n",
       "9997              0.076923  \n",
       "9998              0.615385  \n",
       "9999              1.000000  \n",
       "\n",
       "[10000 rows x 3 columns]"
      ]
     },
     "execution_count": 90,
     "metadata": {},
     "output_type": "execute_result"
    }
   ],
   "source": [
    "column_order=['user_id','track_id','normalized_playcount']\n",
    "df=df[column_order]\n",
    "small_df=df[0:10000]\n",
    "small_df"
   ]
  },
  {
   "cell_type": "code",
   "execution_count": 25,
   "metadata": {},
   "outputs": [
    {
     "name": "stdout",
     "output_type": "stream",
     "text": [
      "RMSE: 0.3389\n"
     ]
    },
    {
     "data": {
      "text/plain": [
       "0.3388958539455192"
      ]
     },
     "execution_count": 25,
     "metadata": {},
     "output_type": "execute_result"
    }
   ],
   "source": [
    "from surprise import accuracy, Dataset, SVD\n",
    "from surprise.model_selection import train_test_split\n",
    "from surprise import Dataset, NormalPredictor, Reader\n",
    "\n",
    "# A reader is still needed but only the rating_scale param is requiered.\n",
    "reader = Reader(rating_scale=(0, 1))\n",
    "\n",
    "# The columns must correspond to user id, item id and ratings (in that order).\n",
    "data = Dataset.load_from_df(small_df[[\"user_id\", \"track_id\", \"normalized_playcount\"]], reader)\n",
    "\n",
    "# sample random trainset and testset\n",
    "# test set is made of 25% of the ratings.\n",
    "trainset, testset = train_test_split(data, test_size=0.25)\n",
    "\n",
    "# We'll use the famous SVD algorithm.\n",
    "algo = SVD()\n",
    "\n",
    "# Train the algorithm on the trainset, and predict ratings for the testset\n",
    "algo.fit(trainset)\n",
    "predictions = algo.test(testset)\n",
    "\n",
    "# Then compute RMSE\n",
    "accuracy.rmse(predictions)"
   ]
  },
  {
   "cell_type": "code",
   "execution_count": 33,
   "metadata": {},
   "outputs": [
    {
     "data": {
      "text/plain": [
       "[('cedacf9603a3c6c4cd1fd869b4572232664a1fb2', 'TRCRCBT128F4260DD1', 1.0)]"
      ]
     },
     "execution_count": 33,
     "metadata": {},
     "output_type": "execute_result"
    }
   ],
   "source": [
    "[testset[0]]"
   ]
  },
  {
   "cell_type": "code",
   "execution_count": 34,
   "metadata": {},
   "outputs": [],
   "source": [
    "predictions = algo.test([testset[0]])"
   ]
  },
  {
   "cell_type": "code",
   "execution_count": 35,
   "metadata": {},
   "outputs": [
    {
     "data": {
      "text/plain": [
       "[Prediction(uid='cedacf9603a3c6c4cd1fd869b4572232664a1fb2', iid='TRCRCBT128F4260DD1', r_ui=1.0, est=0.32602248359568464, details={'was_impossible': False})]"
      ]
     },
     "execution_count": 35,
     "metadata": {},
     "output_type": "execute_result"
    }
   ],
   "source": [
    "predictions"
   ]
  },
  {
   "cell_type": "code",
   "execution_count": 49,
   "metadata": {},
   "outputs": [
    {
     "name": "stdout",
     "output_type": "stream",
     "text": [
      "Estimating biases using als...\n",
      "Computing the msd similarity matrix...\n",
      "Done computing similarity matrix.\n",
      "RMSE: 0.3475\n"
     ]
    },
    {
     "data": {
      "text/plain": [
       "0.3475297309202985"
      ]
     },
     "execution_count": 49,
     "metadata": {},
     "output_type": "execute_result"
    }
   ],
   "source": [
    "from surprise import accuracy, Dataset, SVD\n",
    "from surprise.model_selection import train_test_split\n",
    "from surprise import Dataset, NormalPredictor, Reader\n",
    "from surprise import KNNBaseline\n",
    "\n",
    "# A reader is still needed but only the rating_scale param is requiered.\n",
    "reader = Reader(rating_scale=(0, 1))\n",
    "\n",
    "# The columns must correspond to user id, item id and ratings (in that order).\n",
    "data = Dataset.load_from_df(small_df[[\"user_id\", \"track_id\", \"normalized_playcount\"]], reader)\n",
    "\n",
    "# sample random trainset and testset\n",
    "# test set is made of 25% of the ratings.\n",
    "trainset, testset = train_test_split(data, test_size=0.25)\n",
    "\n",
    "# We'll use the famous SVD algorithm.\n",
    "algo = KNNBaseline()\n",
    "\n",
    "# Train the algorithm on the trainset, and predict ratings for the testset\n",
    "algo.fit(trainset)\n",
    "predictions = algo.test(testset)\n",
    "\n",
    "# Then compute RMSE\n",
    "accuracy.rmse(predictions)"
   ]
  }
 ],
 "metadata": {
  "kernelspec": {
   "display_name": "Python 3",
   "language": "python",
   "name": "python3"
  },
  "language_info": {
   "codemirror_mode": {
    "name": "ipython",
    "version": 3
   },
   "file_extension": ".py",
   "mimetype": "text/x-python",
   "name": "python",
   "nbconvert_exporter": "python",
   "pygments_lexer": "ipython3",
   "version": "3.10.0"
  }
 },
 "nbformat": 4,
 "nbformat_minor": 2
}
