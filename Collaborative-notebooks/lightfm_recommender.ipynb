{
 "cells": [
  {
   "cell_type": "code",
   "execution_count": 1,
   "metadata": {},
   "outputs": [],
   "source": [
    "import pandas as pd\n",
    "\n",
    "\n",
    "df = pd.read_csv('data/normalized_filtered_user_listening.csv', usecols=lambda column: column not in ['Unnamed: 0'])\n",
    "\n",
    "# Initialize an empty list to store your dictionaries\n",
    "dataset_dicts = []\n",
    "\n",
    "# Iterate over the DataFrame rows\n",
    "for index, row in df.iterrows():\n",
    "    # Construct a dictionary for each row and append to the list\n",
    "    row_dict = {\n",
    "        \"user_id\": row[\"user_id\"],\n",
    "        \"track_id\": row[\"track_id\"],\n",
    "        \"playcount\": row[\"normalized_playcount\"]\n",
    "    }\n",
    "    dataset_dicts.append(row_dict)"
   ]
  },
  {
   "cell_type": "code",
   "execution_count": 2,
   "metadata": {},
   "outputs": [
    {
     "data": {
      "text/plain": [
       "<50683x11 sparse matrix of type '<class 'numpy.float32'>'\n",
       "\twith 549394 stored elements in Compressed Sparse Row format>"
      ]
     },
     "execution_count": 2,
     "metadata": {},
     "output_type": "execute_result"
    }
   ],
   "source": [
    "import numpy as np\n",
    "\n",
    "musicdf=pd.read_csv('data/music_info.csv')\n",
    "musicdf.head()\n",
    "\n",
    "from scipy.sparse import csr_matrix\n",
    "\n",
    "features_list = [\n",
    "    'year',\n",
    "    'duration_ms',\n",
    "    'danceability',\n",
    "    'energy',\n",
    "    'loudness',\n",
    "    'speechiness',\n",
    "    'acousticness',\n",
    "    'instrumentalness',\n",
    "    'liveness',\n",
    "    'valence',\n",
    "    'tempo'\n",
    "]\n",
    "\n",
    "item_features_array = musicdf[features_list].values\n",
    "item_features_sparse = csr_matrix(item_features_array, dtype=np.float32)\n",
    "item_features_sparse"
   ]
  },
  {
   "cell_type": "code",
   "execution_count": 3,
   "metadata": {},
   "outputs": [
    {
     "name": "stderr",
     "output_type": "stream",
     "text": [
      "c:\\Users\\metin\\AppData\\Local\\Programs\\Python\\Python310\\lib\\site-packages\\lightfm\\_lightfm_fast.py:9: UserWarning: LightFM was compiled without OpenMP support. Only a single thread will be used.\n",
      "  warnings.warn(\n"
     ]
    },
    {
     "name": "stdout",
     "output_type": "stream",
     "text": [
      "<692376x28597 sparse matrix of type '<class 'numpy.int32'>'\n",
      "\twith 3651141 stored elements in COOrdinate format>\n"
     ]
    }
   ],
   "source": [
    "from lightfm.data import Dataset\n",
    "\n",
    "dataset = Dataset()\n",
    "dataset.fit((x['user_id'] for x in dataset_dicts),\n",
    "            (x['track_id'] for x in dataset_dicts))\n",
    "\n",
    "(interactions, weights) = dataset.build_interactions(((x['user_id'], x['track_id'])\n",
    "                                                      for x in dataset_dicts))\n",
    "\n",
    "print(repr(interactions))"
   ]
  },
  {
   "cell_type": "code",
   "execution_count": 4,
   "metadata": {},
   "outputs": [
    {
     "data": {
      "text/plain": [
       "<lightfm.lightfm.LightFM at 0x1d40ea4fbb0>"
      ]
     },
     "execution_count": 4,
     "metadata": {},
     "output_type": "execute_result"
    }
   ],
   "source": [
    "from lightfm import LightFM\n",
    "\n",
    "model = LightFM(loss='logistic')\n",
    "model.fit(interactions,item_features=item_features_sparse)"
   ]
  },
  {
   "cell_type": "code",
   "execution_count": 36,
   "metadata": {},
   "outputs": [],
   "source": [
    "from lightfm.evaluation import auc_score\n",
    "\n",
    "train_auc = auc_score(model, interactions, item_features=item_features_sparse).mean()"
   ]
  },
  {
   "cell_type": "code",
   "execution_count": 5,
   "metadata": {},
   "outputs": [],
   "source": [
    "# interactions\n",
    "\n",
    "# from scipy.sparse import coo_matrix\n",
    "\n",
    "\n",
    "# # To convert to a dense matrix (if the matrix is not too large):\n",
    "# dense_matrix = interactions.todense()\n",
    "\n",
    "# # To list non-zero entries without converting to dense:\n",
    "# non_zero_entries = zip(interactions.row, interactions.col, interactions.data)\n",
    "# for entry in non_zero_entries:\n",
    "#     print(entry)"
   ]
  },
  {
   "cell_type": "code",
   "execution_count": 8,
   "metadata": {},
   "outputs": [],
   "source": [
    "music_tracks=musicdf['track_id'].values"
   ]
  },
  {
   "cell_type": "code",
   "execution_count": 9,
   "metadata": {},
   "outputs": [
    {
     "name": "stderr",
     "output_type": "stream",
     "text": [
      "C:\\Users\\metin\\AppData\\Local\\Temp\\ipykernel_12444\\2074888201.py:6: FutureWarning: The default argument for metric will be removed in future version of Annoy. Please pass metric='angular' explicitly.\n",
      "  annoy_idx = AnnoyIndex(factors)\n"
     ]
    },
    {
     "data": {
      "text/plain": [
       "True"
      ]
     },
     "execution_count": 9,
     "metadata": {},
     "output_type": "execute_result"
    }
   ],
   "source": [
    "_, item_embeddings = model.get_item_representations(item_features_sparse)\n",
    "\n",
    "from annoy import AnnoyIndex\n",
    "\n",
    "factors = item_embeddings.shape[1] # Length of item vector that will be indexed\n",
    "annoy_idx = AnnoyIndex(factors)  \n",
    "for i in range(item_embeddings.shape[0]):\n",
    "    v = item_embeddings[i]\n",
    "    annoy_idx.add_item(i, v)\n",
    "\n",
    "annoy_idx.build(10) # 10 trees\n",
    "annoy_idx.save('music_annoytree.ann')"
   ]
  },
  {
   "cell_type": "code",
   "execution_count": 10,
   "metadata": {},
   "outputs": [
    {
     "name": "stdout",
     "output_type": "stream",
     "text": [
      "Closest to Chop Suey! by System of a Down : \n",
      "\n",
      "Empty by The Cranberries\n",
      "Origins by Tennis\n",
      "Deed I Do by Diana Krall\n",
      "Stand Up (And Be Counted) by Venom\n",
      "Mr. Torture by Helloween\n",
      "Gryning by Finntroll\n",
      "Here Comes All The People by Liars\n",
      "Loucura by Mariza\n",
      "Threw It Away by Soil\n",
      "What Do You Want by Jerrod Niemann\n"
     ]
    }
   ],
   "source": [
    "def music(track_id,music_df):\n",
    "    related_music=music_df[music_df['track_id']==track_id]\n",
    "    # print(f'{related_music.name} by {related_music.artist}')\n",
    "    music_name = related_music['name'].iloc[0]\n",
    "    artist_name = related_music['artist'].iloc[0]\n",
    "    return f'{music_name} by {artist_name}'\n",
    "\n",
    "def nearest_movies_annoy(track_id, index,music_df, n=10, print_output=True):\n",
    "    nn = index.get_nns_by_item(track_id, 10)\n",
    "\n",
    "\n",
    "    track_id=music_tracks[track_id]\n",
    "    \n",
    "    if print_output:\n",
    "        print('Closest to %s : \\n' % music(track_id,music_df))\n",
    "    titles = [music(music_tracks[i],music_df) for i in nn]\n",
    "    if print_output:\n",
    "        print(\"\\n\".join(titles))\n",
    "    \n",
    "nearest_movies_annoy(13, annoy_idx, musicdf)"
   ]
  },
  {
   "cell_type": "markdown",
   "metadata": {},
   "source": [
    "# User Related Recommendation"
   ]
  },
  {
   "cell_type": "code",
   "execution_count": 12,
   "metadata": {},
   "outputs": [],
   "source": [
    "import numpy as np\n",
    "\n",
    "# Assuming 'item_embeddings' is your array of embeddings\n",
    "normalized_embeddings = np.array([emb / np.linalg.norm(emb) if np.linalg.norm(emb) != 0 else emb for emb in item_embeddings])\n"
   ]
  },
  {
   "cell_type": "code",
   "execution_count": 13,
   "metadata": {},
   "outputs": [
    {
     "name": "stderr",
     "output_type": "stream",
     "text": [
      "C:\\Users\\metin\\AppData\\Local\\Temp\\ipykernel_12444\\4022743488.py:9: FutureWarning: The default argument for metric will be removed in future version of Annoy. Please pass metric='angular' explicitly.\n",
      "  annoy_member_idx = AnnoyIndex(user_factors)  # Length of item vector that will be indexed\n"
     ]
    },
    {
     "data": {
      "text/plain": [
       "True"
      ]
     },
     "execution_count": 13,
     "metadata": {},
     "output_type": "execute_result"
    }
   ],
   "source": [
    "norms = np.linalg.norm(normalized_embeddings, axis=1)\n",
    "max_norm = norms.max()\n",
    "extra_dimension = np.sqrt(max_norm ** 2 - norms ** 2)\n",
    "norm_data = np.append(normalized_embeddings, extra_dimension.reshape(norms.shape[0], 1), axis=1)\n",
    "\n",
    "#First an Annoy index:\n",
    "\n",
    "user_factors = norm_data.shape[1]\n",
    "annoy_member_idx = AnnoyIndex(user_factors)  # Length of item vector that will be indexed\n",
    "\n",
    "for i in range(norm_data.shape[0]):\n",
    "    v = norm_data[i]\n",
    "    annoy_member_idx.add_item(i, v)\n",
    "    \n",
    "annoy_member_idx.build(10)\n"
   ]
  },
  {
   "cell_type": "code",
   "execution_count": 14,
   "metadata": {},
   "outputs": [
    {
     "data": {
      "text/plain": [
       "array([ 0.37305456, -0.46896148,  0.3143484 ,  0.15208659, -0.4772629 ,\n",
       "       -0.35165125, -0.02878246,  0.10749982, -0.2103113 , -0.33302584],\n",
       "      dtype=float32)"
      ]
     },
     "execution_count": 14,
     "metadata": {},
     "output_type": "execute_result"
    }
   ],
   "source": [
    "normalized_embeddings[0]"
   ]
  },
  {
   "cell_type": "code",
   "execution_count": 15,
   "metadata": {},
   "outputs": [],
   "source": [
    "_, user_embeddings = model.get_user_representations()"
   ]
  },
  {
   "cell_type": "code",
   "execution_count": 33,
   "metadata": {},
   "outputs": [
    {
     "data": {
      "text/plain": [
       "([25337, 15659, 40535, 40152, 46740],\n",
       " [1.1076070070266724,\n",
       "  1.1076135635375977,\n",
       "  1.107615351676941,\n",
       "  1.107618808746338,\n",
       "  1.1076197624206543])"
      ]
     },
     "execution_count": 33,
     "metadata": {},
     "output_type": "execute_result"
    }
   ],
   "source": [
    "# annoy_member_idx.get_nns_by_vector()\n",
    "# np.append(user_embeddings[4], 0)\n",
    "annoy_member_idx.get_nns_by_vector(np.append(user_embeddings[3], 0), n=5, search_k=1000000, include_distances=True)"
   ]
  },
  {
   "cell_type": "code",
   "execution_count": 19,
   "metadata": {},
   "outputs": [],
   "source": [
    "def sample_recommendation(user_ids, model, data, music_info, n_items=10, print_output=True):\n",
    "    n_users, n_items = data.shape\n",
    "    music_tracks=musicdf['track_id'].values\n",
    "    for user_id in user_ids:\n",
    "        known_positives = music_tracks[interactions.tocsr()[user_id].indices]\n",
    "        print(known_positives)\n",
    "        top_items = [music_tracks[i] for i in annoy_member_idx.get_nns_by_vector(np.append(user_embeddings[user_id], 0), 5)]\n",
    "        print(annoy_member_idx.get_nns_by_vector(np.append(user_embeddings[user_id], 0), 5))\n",
    "        print(top_items)\n",
    "        if print_output == True:\n",
    "            print(\"User %s\" % user_id)\n",
    "            print(\"     Known positives:\")\n",
    "\n",
    "            for x in known_positives[:3]:\n",
    "                print(\"        %s\" % music(x,music_info))\n",
    "\n",
    "            print(\"     Recommended:\")\n",
    "\n",
    "            for x in top_items[:3]:\n",
    "                print(\"        %s\" % music(x,music_info))"
   ]
  },
  {
   "cell_type": "code",
   "execution_count": 29,
   "metadata": {},
   "outputs": [
    {
     "name": "stdout",
     "output_type": "stream",
     "text": [
      "['TRJENQH128E078E00F']\n",
      "[25337, 15659, 40535, 40152, 46740]\n",
      "['TRDAOJL128F932C383', 'TRFFCRE128F4298E8C', 'TRDZBOR128F42893C9', 'TRXIABC128F932E7DD', 'TRXLVNH128F92F9A04']\n",
      "User 13202\n",
      "     Known positives:\n",
      "        Respectable by The Rolling Stones\n",
      "     Recommended:\n",
      "        Dopesmoker by Sleep\n",
      "        45:33 by LCD Soundsystem\n",
      "        dlp 3 by William Basinski\n"
     ]
    }
   ],
   "source": [
    "sample_recommendation([13202], model, interactions, musicdf, print_output=True)"
   ]
  }
 ],
 "metadata": {
  "kernelspec": {
   "display_name": "Python 3",
   "language": "python",
   "name": "python3"
  },
  "language_info": {
   "codemirror_mode": {
    "name": "ipython",
    "version": 3
   },
   "file_extension": ".py",
   "mimetype": "text/x-python",
   "name": "python",
   "nbconvert_exporter": "python",
   "pygments_lexer": "ipython3",
   "version": "3.10.0"
  }
 },
 "nbformat": 4,
 "nbformat_minor": 2
}
