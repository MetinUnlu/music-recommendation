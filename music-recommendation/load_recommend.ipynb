{
 "cells": [
  {
   "cell_type": "code",
   "execution_count": 1,
   "metadata": {},
   "outputs": [],
   "source": [
    "from implicit.evaluation import leave_k_out_split, precision_at_k, train_test_split\n",
    "# from implicitMusic import ImplicitRecommender, ArtistRetriever\n",
    "import implicitMusic\n",
    "import implicit\n",
    "from pathlib import Path\n",
    "\n",
    "music_path=\"../data/music_info.csv\"\n",
    "df_path=\"../data/normalized_filtered_user_listening.csv\"\n",
    "    \n",
    "# load user artists matrix\n",
    "user_artists = implicitMusic.load_user_artists(Path(df_path))\n",
    "\n",
    "# instantiate artist retriever\n",
    "artist_retriever = implicitMusic.ArtistRetriever()\n",
    "artist_retriever.load_artists(Path(music_path),Path(df_path))\n",
    "\n",
    "implict_model = implicit.cpu.bpr.BayesianPersonalizedRanking().load('800-BPS.npz')\n",
    "recommender = implicitMusic.ImplicitRecommender(artist_retriever, implict_model)\n"
   ]
  },
  {
   "cell_type": "code",
   "execution_count": 2,
   "metadata": {},
   "outputs": [
    {
     "name": "stdout",
     "output_type": "stream",
     "text": [
      "[ 876 1458 1457 8331 1703]\n",
      "Buddy Holly by Weezer: 3.533935308456421\n",
      "My Name Is Jonas by Weezer: 3.250818967819214\n",
      "El Scorcho by Weezer: 2.9429097175598145\n",
      "O Girlfriend by Weezer: 2.715181827545166\n",
      "(If You're Wondering If I Want You To) I Want You To by Weezer: 2.6941356658935547\n"
     ]
    }
   ],
   "source": [
    "music_id, artists, tracks, scores = recommender.recommend(541, user_artists, n=5)\n",
    "print(music_id)\n",
    "    # print results\n",
    "for artist, track, score in zip(artists, tracks, scores):\n",
    "    print(f\"{artist} by {track}: {score}\")\n"
   ]
  },
  {
   "cell_type": "code",
   "execution_count": 3,
   "metadata": {},
   "outputs": [],
   "source": [
    "import numpy as np\n",
    "\n",
    "# Replace 'my_data.csv' with the path to your CSV file\n",
    "indices = np.genfromtxt('../Content-Based/kNN-indices.csv', delimiter=',')\n",
    "distances= np.genfromtxt('../Content-Based/kNN-distances.csv', delimiter=',')\n"
   ]
  },
  {
   "cell_type": "code",
   "execution_count": 4,
   "metadata": {},
   "outputs": [
    {
     "data": {
      "text/plain": [
       "'Buddy Holly'"
      ]
     },
     "execution_count": 4,
     "metadata": {},
     "output_type": "execute_result"
    }
   ],
   "source": [
    "artist_retriever.get_artist_name_from_id(876)"
   ]
  },
  {
   "cell_type": "code",
   "execution_count": 5,
   "metadata": {},
   "outputs": [],
   "source": [
    "# Example of how to use the results for recommendations\n",
    "def get_recommendations(item_index, indices, distances, n_recommendations=5):\n",
    "    # Get the indices of the recommended items\n",
    "    recommended_indices = indices[item_index, 1:n_recommendations+1]  # Exclude the first item since it's the query item itself\n",
    "    recommended_distances = distances[item_index, 1:n_recommendations+1]\n",
    "    return recommended_indices,recommended_distances\n",
    "\n",
    "# Get recommendations for a specific item\n",
    "item_index = 0  # Change this to the index of the item you want recommendations for\n",
    "recommendations = get_recommendations(item_index, indices,distances)"
   ]
  },
  {
   "cell_type": "code",
   "execution_count": 6,
   "metadata": {},
   "outputs": [
    {
     "data": {
      "text/plain": [
       "(array([10234., 25287., 25219.,  5338., 29424.]),\n",
       " array([8.32015568e-11, 1.06794129e-10, 1.46577195e-10, 1.82873827e-10,\n",
       "        1.94384397e-10]))"
      ]
     },
     "execution_count": 6,
     "metadata": {},
     "output_type": "execute_result"
    }
   ],
   "source": [
    "recommendations"
   ]
  },
  {
   "cell_type": "markdown",
   "metadata": {},
   "source": [
    "for that user take listened musics, for all listened musics, divide their power with distances get 5 minimum values get its location and find it in indeces list to find its music indince and make recommendation"
   ]
  },
  {
   "cell_type": "code",
   "execution_count": 7,
   "metadata": {},
   "outputs": [
    {
     "data": {
      "text/html": [
       "<div>\n",
       "<style scoped>\n",
       "    .dataframe tbody tr th:only-of-type {\n",
       "        vertical-align: middle;\n",
       "    }\n",
       "\n",
       "    .dataframe tbody tr th {\n",
       "        vertical-align: top;\n",
       "    }\n",
       "\n",
       "    .dataframe thead th {\n",
       "        text-align: right;\n",
       "    }\n",
       "</style>\n",
       "<table border=\"1\" class=\"dataframe\">\n",
       "  <thead>\n",
       "    <tr style=\"text-align: right;\">\n",
       "      <th></th>\n",
       "      <th>Unnamed: 0</th>\n",
       "      <th>track_id</th>\n",
       "      <th>user_id</th>\n",
       "      <th>normalized_playcount</th>\n",
       "    </tr>\n",
       "  </thead>\n",
       "  <tbody>\n",
       "    <tr>\n",
       "      <th>0</th>\n",
       "      <td>8</td>\n",
       "      <td>TRAAHSY128F147BB5C</td>\n",
       "      <td>b80344d063b5ccb3212f76538f3d9e43d87dca9e</td>\n",
       "      <td>1.0</td>\n",
       "    </tr>\n",
       "    <tr>\n",
       "      <th>1</th>\n",
       "      <td>21</td>\n",
       "      <td>TRPGYLT128F428AD02</td>\n",
       "      <td>85c1f87fea955d09b4bec2e36aee110927aedf9a</td>\n",
       "      <td>1.0</td>\n",
       "    </tr>\n",
       "    <tr>\n",
       "      <th>2</th>\n",
       "      <td>24</td>\n",
       "      <td>TRWCEKE128F93191BE</td>\n",
       "      <td>bd4c6e843f00bd476847fb75c47b4fb430a06856</td>\n",
       "      <td>1.0</td>\n",
       "    </tr>\n",
       "    <tr>\n",
       "      <th>3</th>\n",
       "      <td>31</td>\n",
       "      <td>TRDSFKT12903CB510F</td>\n",
       "      <td>4bd88bfb25263a75bbdd467e74018f4ae570e5df</td>\n",
       "      <td>0.5</td>\n",
       "    </tr>\n",
       "    <tr>\n",
       "      <th>4</th>\n",
       "      <td>32</td>\n",
       "      <td>TRRELZC128E078ED67</td>\n",
       "      <td>4bd88bfb25263a75bbdd467e74018f4ae570e5df</td>\n",
       "      <td>1.0</td>\n",
       "    </tr>\n",
       "  </tbody>\n",
       "</table>\n",
       "</div>"
      ],
      "text/plain": [
       "   Unnamed: 0            track_id                                   user_id  \\\n",
       "0           8  TRAAHSY128F147BB5C  b80344d063b5ccb3212f76538f3d9e43d87dca9e   \n",
       "1          21  TRPGYLT128F428AD02  85c1f87fea955d09b4bec2e36aee110927aedf9a   \n",
       "2          24  TRWCEKE128F93191BE  bd4c6e843f00bd476847fb75c47b4fb430a06856   \n",
       "3          31  TRDSFKT12903CB510F  4bd88bfb25263a75bbdd467e74018f4ae570e5df   \n",
       "4          32  TRRELZC128E078ED67  4bd88bfb25263a75bbdd467e74018f4ae570e5df   \n",
       "\n",
       "   normalized_playcount  \n",
       "0                   1.0  \n",
       "1                   1.0  \n",
       "2                   1.0  \n",
       "3                   0.5  \n",
       "4                   1.0  "
      ]
     },
     "execution_count": 7,
     "metadata": {},
     "output_type": "execute_result"
    }
   ],
   "source": [
    "import pandas as pd\n",
    "df=pd.read_csv(df_path)\n",
    "df.head()"
   ]
  },
  {
   "cell_type": "code",
   "execution_count": 18,
   "metadata": {},
   "outputs": [
    {
     "name": "stdout",
     "output_type": "stream",
     "text": [
      "user count: 692376\n",
      "unique listened music count: 28597\n"
     ]
    }
   ],
   "source": [
    "users=df['user_id'].unique()\n",
    "print('user count:',len(users))\n",
    "listened_music=df['track_id'].unique()\n",
    "print('unique listened music count:',len(listened_music))"
   ]
  },
  {
   "cell_type": "code",
   "execution_count": 9,
   "metadata": {},
   "outputs": [
    {
     "name": "stdout",
     "output_type": "stream",
     "text": [
      "c162cca4595e5b2fbeefed35ae0f247f648d7751\n"
     ]
    },
    {
     "data": {
      "text/html": [
       "<div>\n",
       "<style scoped>\n",
       "    .dataframe tbody tr th:only-of-type {\n",
       "        vertical-align: middle;\n",
       "    }\n",
       "\n",
       "    .dataframe tbody tr th {\n",
       "        vertical-align: top;\n",
       "    }\n",
       "\n",
       "    .dataframe thead th {\n",
       "        text-align: right;\n",
       "    }\n",
       "</style>\n",
       "<table border=\"1\" class=\"dataframe\">\n",
       "  <thead>\n",
       "    <tr style=\"text-align: right;\">\n",
       "      <th></th>\n",
       "      <th>Unnamed: 0</th>\n",
       "      <th>track_id</th>\n",
       "      <th>user_id</th>\n",
       "      <th>normalized_playcount</th>\n",
       "    </tr>\n",
       "  </thead>\n",
       "  <tbody>\n",
       "    <tr>\n",
       "      <th>667</th>\n",
       "      <td>1827</td>\n",
       "      <td>TRLDNWG128E07813ED</td>\n",
       "      <td>c162cca4595e5b2fbeefed35ae0f247f648d7751</td>\n",
       "      <td>1.000000</td>\n",
       "    </tr>\n",
       "    <tr>\n",
       "      <th>668</th>\n",
       "      <td>1828</td>\n",
       "      <td>TROHTPQ128F428B7A6</td>\n",
       "      <td>c162cca4595e5b2fbeefed35ae0f247f648d7751</td>\n",
       "      <td>0.111111</td>\n",
       "    </tr>\n",
       "  </tbody>\n",
       "</table>\n",
       "</div>"
      ],
      "text/plain": [
       "     Unnamed: 0            track_id                                   user_id  \\\n",
       "667        1827  TRLDNWG128E07813ED  c162cca4595e5b2fbeefed35ae0f247f648d7751   \n",
       "668        1828  TROHTPQ128F428B7A6  c162cca4595e5b2fbeefed35ae0f247f648d7751   \n",
       "\n",
       "     normalized_playcount  \n",
       "667              1.000000  \n",
       "668              0.111111  "
      ]
     },
     "metadata": {},
     "output_type": "display_data"
    }
   ],
   "source": [
    "# Nth user is:\n",
    "N=100\n",
    "print(users[N])\n",
    "display(df[df['user_id']==users[N]])"
   ]
  },
  {
   "cell_type": "code",
   "execution_count": 10,
   "metadata": {},
   "outputs": [
    {
     "data": {
      "text/html": [
       "<div>\n",
       "<style scoped>\n",
       "    .dataframe tbody tr th:only-of-type {\n",
       "        vertical-align: middle;\n",
       "    }\n",
       "\n",
       "    .dataframe tbody tr th {\n",
       "        vertical-align: top;\n",
       "    }\n",
       "\n",
       "    .dataframe thead th {\n",
       "        text-align: right;\n",
       "    }\n",
       "</style>\n",
       "<table border=\"1\" class=\"dataframe\">\n",
       "  <thead>\n",
       "    <tr style=\"text-align: right;\">\n",
       "      <th></th>\n",
       "      <th>track_id</th>\n",
       "      <th>name</th>\n",
       "      <th>artist</th>\n",
       "      <th>spotify_preview_url</th>\n",
       "      <th>spotify_id</th>\n",
       "      <th>tags</th>\n",
       "      <th>genre</th>\n",
       "      <th>year</th>\n",
       "      <th>duration_ms</th>\n",
       "      <th>danceability</th>\n",
       "      <th>...</th>\n",
       "      <th>key</th>\n",
       "      <th>loudness</th>\n",
       "      <th>mode</th>\n",
       "      <th>speechiness</th>\n",
       "      <th>acousticness</th>\n",
       "      <th>instrumentalness</th>\n",
       "      <th>liveness</th>\n",
       "      <th>valence</th>\n",
       "      <th>tempo</th>\n",
       "      <th>time_signature</th>\n",
       "    </tr>\n",
       "  </thead>\n",
       "  <tbody>\n",
       "    <tr>\n",
       "      <th>0</th>\n",
       "      <td>TRIOREW128F424EAF0</td>\n",
       "      <td>Mr. Brightside</td>\n",
       "      <td>The Killers</td>\n",
       "      <td>https://p.scdn.co/mp3-preview/4d26180e6961fd46...</td>\n",
       "      <td>09ZQ5TmUG8TSL56n0knqrj</td>\n",
       "      <td>rock, alternative, indie, alternative_rock, in...</td>\n",
       "      <td>NaN</td>\n",
       "      <td>2004</td>\n",
       "      <td>222200</td>\n",
       "      <td>0.355</td>\n",
       "      <td>...</td>\n",
       "      <td>1</td>\n",
       "      <td>-4.360</td>\n",
       "      <td>1</td>\n",
       "      <td>0.0746</td>\n",
       "      <td>0.001190</td>\n",
       "      <td>0.0</td>\n",
       "      <td>0.0971</td>\n",
       "      <td>0.240</td>\n",
       "      <td>148.114</td>\n",
       "      <td>4</td>\n",
       "    </tr>\n",
       "    <tr>\n",
       "      <th>1</th>\n",
       "      <td>TRRIVDJ128F429B0E8</td>\n",
       "      <td>Wonderwall</td>\n",
       "      <td>Oasis</td>\n",
       "      <td>https://p.scdn.co/mp3-preview/d012e536916c927b...</td>\n",
       "      <td>06UfBBDISthj1ZJAtX4xjj</td>\n",
       "      <td>rock, alternative, indie, pop, alternative_roc...</td>\n",
       "      <td>NaN</td>\n",
       "      <td>2006</td>\n",
       "      <td>258613</td>\n",
       "      <td>0.409</td>\n",
       "      <td>...</td>\n",
       "      <td>2</td>\n",
       "      <td>-4.373</td>\n",
       "      <td>1</td>\n",
       "      <td>0.0336</td>\n",
       "      <td>0.000807</td>\n",
       "      <td>0.0</td>\n",
       "      <td>0.2070</td>\n",
       "      <td>0.651</td>\n",
       "      <td>174.426</td>\n",
       "      <td>4</td>\n",
       "    </tr>\n",
       "  </tbody>\n",
       "</table>\n",
       "<p>2 rows × 21 columns</p>\n",
       "</div>"
      ],
      "text/plain": [
       "             track_id            name       artist  \\\n",
       "0  TRIOREW128F424EAF0  Mr. Brightside  The Killers   \n",
       "1  TRRIVDJ128F429B0E8      Wonderwall        Oasis   \n",
       "\n",
       "                                 spotify_preview_url              spotify_id  \\\n",
       "0  https://p.scdn.co/mp3-preview/4d26180e6961fd46...  09ZQ5TmUG8TSL56n0knqrj   \n",
       "1  https://p.scdn.co/mp3-preview/d012e536916c927b...  06UfBBDISthj1ZJAtX4xjj   \n",
       "\n",
       "                                                tags genre  year  duration_ms  \\\n",
       "0  rock, alternative, indie, alternative_rock, in...   NaN  2004       222200   \n",
       "1  rock, alternative, indie, pop, alternative_roc...   NaN  2006       258613   \n",
       "\n",
       "   danceability  ...  key  loudness  mode  speechiness  acousticness  \\\n",
       "0         0.355  ...    1    -4.360     1       0.0746      0.001190   \n",
       "1         0.409  ...    2    -4.373     1       0.0336      0.000807   \n",
       "\n",
       "   instrumentalness  liveness  valence    tempo  time_signature  \n",
       "0               0.0    0.0971    0.240  148.114               4  \n",
       "1               0.0    0.2070    0.651  174.426               4  \n",
       "\n",
       "[2 rows x 21 columns]"
      ]
     },
     "execution_count": 10,
     "metadata": {},
     "output_type": "execute_result"
    }
   ],
   "source": [
    "df_music=pd.read_csv(music_path)\n",
    "df_music.head(2)"
   ]
  },
  {
   "cell_type": "code",
   "execution_count": 11,
   "metadata": {},
   "outputs": [
    {
     "data": {
      "text/plain": [
       "31233"
      ]
     },
     "execution_count": 11,
     "metadata": {},
     "output_type": "execute_result"
    }
   ],
   "source": [
    "df_music[df_music['track_id']==df[df['user_id']==users[N]]['track_id'].iloc[0]].index[0]"
   ]
  },
  {
   "cell_type": "code",
   "execution_count": 12,
   "metadata": {},
   "outputs": [],
   "source": [
    "tracks= df[df['user_id']==users[N]]['track_id']\n",
    "weights=df[df['user_id']==users[N]]['normalized_playcount']"
   ]
  },
  {
   "cell_type": "code",
   "execution_count": 13,
   "metadata": {},
   "outputs": [
    {
     "data": {
      "text/plain": [
       "[31233, 14683]"
      ]
     },
     "execution_count": 13,
     "metadata": {},
     "output_type": "execute_result"
    }
   ],
   "source": [
    "track_id=[]\n",
    "for track in tracks:\n",
    "    track_id.append(df_music[df_music['track_id']==track].index[0])\n",
    "track_id"
   ]
  },
  {
   "cell_type": "code",
   "execution_count": 14,
   "metadata": {},
   "outputs": [],
   "source": [
    "recommended_ind, recommended_dist=get_recommendations(track_id[1],indices,distances)"
   ]
  },
  {
   "cell_type": "code",
   "execution_count": 15,
   "metadata": {},
   "outputs": [
    {
     "name": "stdout",
     "output_type": "stream",
     "text": [
      "[3.79197784e-11 9.12272480e-11 1.49687818e-10 1.59104396e-10\n",
      " 1.66971548e-10]\n",
      "[3.41278006e-10 8.21045232e-10 1.34719036e-09 1.43193957e-09\n",
      " 1.50274393e-09]\n"
     ]
    }
   ],
   "source": [
    "print(recommended_dist)\n",
    "print(recommended_dist/weights.iloc[1])"
   ]
  },
  {
   "cell_type": "code",
   "execution_count": 45,
   "metadata": {},
   "outputs": [
    {
     "name": "stdout",
     "output_type": "stream",
     "text": [
      "TRCPXID128F92D5D3C\n",
      "2742\n"
     ]
    },
    {
     "data": {
      "text/plain": [
       "[29088.0, 22550.0, 17340.0, 39166.0, 20342.0]"
      ]
     },
     "execution_count": 45,
     "metadata": {},
     "output_type": "execute_result"
    }
   ],
   "source": [
    "import heapq\n",
    "\n",
    "def kNN_recommend(N,df,df_music,indices,distances):\n",
    "    all_recommendations={}\n",
    "    tracks= df[df['user_id']==users[N]]['track_id']\n",
    "    weights=df[df['user_id']==users[N]]['normalized_playcount']\n",
    "    print(tracks.iloc[0])\n",
    "    print(df_music[df_music['track_id']==tracks.iloc[0]].index[0])\n",
    "    for i in range(len(tracks)):\n",
    "        track=df_music[df_music['track_id']==tracks.iloc[i]].index[0]\n",
    "        recommended_ind, recommended_dist=get_recommendations(track,indices,distances)\n",
    "        recommended_dist=recommended_dist/weights.iloc[i]\n",
    "        for n in range(len(recommended_ind)):\n",
    "            all_recommendations[recommended_ind[n]]=recommended_dist[n]\n",
    "    recommendation_list=heapq.nsmallest(5, all_recommendations, key=all_recommendations.get)\n",
    "    return(recommendation_list)\n",
    "\n",
    "# listened_musics=df['track_id'].unique()\n",
    "kNN_list=kNN_recommend(692373,df,df_music,indices,distances)\n",
    "kNN_list\n"
   ]
  },
  {
   "cell_type": "code",
   "execution_count": 31,
   "metadata": {},
   "outputs": [
    {
     "data": {
      "text/html": [
       "<div>\n",
       "<style scoped>\n",
       "    .dataframe tbody tr th:only-of-type {\n",
       "        vertical-align: middle;\n",
       "    }\n",
       "\n",
       "    .dataframe tbody tr th {\n",
       "        vertical-align: top;\n",
       "    }\n",
       "\n",
       "    .dataframe thead th {\n",
       "        text-align: right;\n",
       "    }\n",
       "</style>\n",
       "<table border=\"1\" class=\"dataframe\">\n",
       "  <thead>\n",
       "    <tr style=\"text-align: right;\">\n",
       "      <th></th>\n",
       "      <th>track_id</th>\n",
       "      <th>name</th>\n",
       "      <th>artist</th>\n",
       "      <th>spotify_preview_url</th>\n",
       "      <th>spotify_id</th>\n",
       "      <th>tags</th>\n",
       "      <th>genre</th>\n",
       "      <th>year</th>\n",
       "      <th>duration_ms</th>\n",
       "      <th>danceability</th>\n",
       "      <th>...</th>\n",
       "      <th>key</th>\n",
       "      <th>loudness</th>\n",
       "      <th>mode</th>\n",
       "      <th>speechiness</th>\n",
       "      <th>acousticness</th>\n",
       "      <th>instrumentalness</th>\n",
       "      <th>liveness</th>\n",
       "      <th>valence</th>\n",
       "      <th>tempo</th>\n",
       "      <th>time_signature</th>\n",
       "    </tr>\n",
       "  </thead>\n",
       "  <tbody>\n",
       "    <tr>\n",
       "      <th>38534</th>\n",
       "      <td>TRDCPMP128F148D3B9</td>\n",
       "      <td>Saint Agnes And The Burning Train</td>\n",
       "      <td>Sting</td>\n",
       "      <td>https://p.scdn.co/mp3-preview/24e51f65db6252ff...</td>\n",
       "      <td>2oojlTSj3xZZdQMge06O5Y</td>\n",
       "      <td>rock, instrumental, guitar</td>\n",
       "      <td>Rock</td>\n",
       "      <td>1991</td>\n",
       "      <td>163040</td>\n",
       "      <td>0.762</td>\n",
       "      <td>...</td>\n",
       "      <td>4</td>\n",
       "      <td>-18.7</td>\n",
       "      <td>0</td>\n",
       "      <td>0.0698</td>\n",
       "      <td>0.902</td>\n",
       "      <td>0.899</td>\n",
       "      <td>0.133</td>\n",
       "      <td>0.491</td>\n",
       "      <td>115.298</td>\n",
       "      <td>3</td>\n",
       "    </tr>\n",
       "  </tbody>\n",
       "</table>\n",
       "<p>1 rows × 21 columns</p>\n",
       "</div>"
      ],
      "text/plain": [
       "                 track_id                               name artist  \\\n",
       "38534  TRDCPMP128F148D3B9  Saint Agnes And The Burning Train  Sting   \n",
       "\n",
       "                                     spotify_preview_url  \\\n",
       "38534  https://p.scdn.co/mp3-preview/24e51f65db6252ff...   \n",
       "\n",
       "                   spotify_id                        tags genre  year  \\\n",
       "38534  2oojlTSj3xZZdQMge06O5Y  rock, instrumental, guitar  Rock  1991   \n",
       "\n",
       "       duration_ms  danceability  ...  key  loudness  mode  speechiness  \\\n",
       "38534       163040         0.762  ...    4     -18.7     0       0.0698   \n",
       "\n",
       "       acousticness  instrumentalness  liveness  valence    tempo  \\\n",
       "38534         0.902             0.899     0.133    0.491  115.298   \n",
       "\n",
       "       time_signature  \n",
       "38534               3  \n",
       "\n",
       "[1 rows x 21 columns]"
      ]
     },
     "execution_count": 31,
     "metadata": {},
     "output_type": "execute_result"
    }
   ],
   "source": [
    "df_music.iloc[[38534]]"
   ]
  },
  {
   "cell_type": "code",
   "execution_count": 89,
   "metadata": {},
   "outputs": [
    {
     "data": {
      "text/plain": [
       "track_id                                              TRDYILM128F931C26F\n",
       "name                                                     Paris Streatham\n",
       "artist                                                              Cujo\n",
       "spotify_preview_url    https://p.scdn.co/mp3-preview/7b76b4d0166d7f4f...\n",
       "spotify_id                                        2PhXTbGk3rv6hfQvLSIn3t\n",
       "tags                            electronic, chillout, idm, drum_and_bass\n",
       "genre                                                         Electronic\n",
       "year                                                                2002\n",
       "duration_ms                                                       297440\n",
       "danceability                                                       0.654\n",
       "energy                                                             0.531\n",
       "key                                                                   11\n",
       "loudness                                                         -14.595\n",
       "mode                                                                   1\n",
       "speechiness                                                       0.0808\n",
       "acousticness                                                      0.0961\n",
       "instrumentalness                                                   0.818\n",
       "liveness                                                            0.43\n",
       "valence                                                            0.583\n",
       "tempo                                                            160.023\n",
       "time_signature                                                         4\n",
       "Name: 38880, dtype: object"
      ]
     },
     "execution_count": 89,
     "metadata": {},
     "output_type": "execute_result"
    }
   ],
   "source": [
    "df_music.iloc[38880]"
   ]
  },
  {
   "cell_type": "code",
   "execution_count": 32,
   "metadata": {},
   "outputs": [
    {
     "name": "stdout",
     "output_type": "stream",
     "text": [
      "Number of users who listened to more than 5 different music tracks: 86361\n",
      "Percentage of users who listened to more than 5 different music tracks: 12.47%\n"
     ]
    }
   ],
   "source": [
    "import pandas as pd\n",
    "\n",
    "# Assuming 'df' is your DataFrame\n",
    "user_music_counts = df.groupby('user_id').size()\n",
    "\n",
    "# Count users with more than 5 different music tracks\n",
    "users_above_threshold = (user_music_counts > 10).sum()\n",
    "\n",
    "total_users = len(user_music_counts)\n",
    "\n",
    "print(f\"Number of users who listened to more than 5 different music tracks: {users_above_threshold}\")\n",
    "print(f\"Percentage of users who listened to more than 5 different music tracks: {(users_above_threshold / total_users) * 100:.2f}%\")"
   ]
  }
 ],
 "metadata": {
  "kernelspec": {
   "display_name": "Python 3",
   "language": "python",
   "name": "python3"
  },
  "language_info": {
   "codemirror_mode": {
    "name": "ipython",
    "version": 3
   },
   "file_extension": ".py",
   "mimetype": "text/x-python",
   "name": "python",
   "nbconvert_exporter": "python",
   "pygments_lexer": "ipython3",
   "version": "3.10.0"
  }
 },
 "nbformat": 4,
 "nbformat_minor": 2
}
