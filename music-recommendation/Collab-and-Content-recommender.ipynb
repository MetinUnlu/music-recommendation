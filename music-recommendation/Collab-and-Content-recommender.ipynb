{
 "cells": [
  {
   "cell_type": "code",
   "execution_count": 44,
   "metadata": {},
   "outputs": [
    {
     "name": "stdout",
     "output_type": "stream",
     "text": [
      "user count: 692376\n",
      "unique listened music count: 28597\n"
     ]
    }
   ],
   "source": [
    "from implicit.evaluation import leave_k_out_split, precision_at_k, train_test_split\n",
    "# from implicitMusic import ImplicitRecommender, ArtistRetriever\n",
    "import implicitMusic\n",
    "import implicit\n",
    "from pathlib import Path\n",
    "import pandas as pd\n",
    "import numpy as np\n",
    "import heapq\n",
    "\n",
    "music_path=\"../data/music_info.csv\"\n",
    "df_path=\"../data/normalized_filtered_user_listening.csv\"\n",
    "    \n",
    "# load user artists matrix\n",
    "user_artists = implicitMusic.load_user_artists(Path(df_path))\n",
    "\n",
    "# instantiate artist retriever\n",
    "artist_retriever = implicitMusic.ArtistRetriever()\n",
    "artist_retriever.load_artists(Path(music_path),Path(df_path))\n",
    "\n",
    "implict_model = implicit.cpu.bpr.BayesianPersonalizedRanking().load('800-BPS.npz')\n",
    "recommender = implicitMusic.ImplicitRecommender(artist_retriever, implict_model)\n",
    "\n",
    "# CSV files of Content-Based Results\n",
    "indices = np.genfromtxt('../Content-Based/kNN-indices.csv', delimiter=',')\n",
    "distances= np.genfromtxt('../Content-Based/kNN-distances.csv', delimiter=',')\n",
    "\n",
    "# Example of how to use the results for recommendations\n",
    "def get_recommendations(item_index, indices, distances, n_recommendations=5):\n",
    "    # Get the indices of the recommended items\n",
    "    recommended_indices = indices[item_index, 1:n_recommendations+1]  # Exclude the first item since it's the query item itself\n",
    "    recommended_distances = distances[item_index, 1:n_recommendations+1]\n",
    "    return recommended_indices,recommended_distances\n",
    "\n",
    "df=pd.read_csv(df_path)\n",
    "df_music=pd.read_csv(music_path)\n",
    "\n",
    "users=df['user_id'].unique()\n",
    "print('user count:',len(users))\n",
    "listened_musics=df['track_id'].unique()\n",
    "print('unique listened music count:',len(listened_musics))\n",
    "\n",
    "def kNN_recommend(N,df,df_music,indices,distances,n_recommendations=5):\n",
    "    all_recommendations={}\n",
    "    tracks= df[df['user_id']==users[N]]['track_id']\n",
    "    weights=df[df['user_id']==users[N]]['normalized_playcount']\n",
    "    for i in range(len(tracks)):\n",
    "        track=df_music[df_music['track_id']==tracks.iloc[i]].index[0]\n",
    "        recommended_ind, recommended_dist=get_recommendations(track,indices,distances,n_recommendations)\n",
    "        recommended_dist=recommended_dist/weights.iloc[i]\n",
    "        for n in range(len(recommended_ind)):\n",
    "            all_recommendations[recommended_ind[n]]=recommended_dist[n]\n",
    "    recommendation_list=heapq.nsmallest(n_recommendations, all_recommendations, key=all_recommendations.get)\n",
    "    return(recommendation_list)"
   ]
  },
  {
   "cell_type": "code",
   "execution_count": 59,
   "metadata": {},
   "outputs": [
    {
     "name": "stdout",
     "output_type": "stream",
     "text": [
      "5\n",
      "\n",
      " Recommended Musics:\n",
      "Some Kinda Love by The Velvet Underground (Collaborative Filtering Based)\n",
      "Age of Consent by New Order (Collaborative Filtering Based)\n",
      "I'm Sleeping in a Submarine by Arcade Fire (Collaborative Filtering Based)\n",
      "Childhood Remembered by Kevin Kern (Collaborative Filtering Based)\n",
      "Thieves Like Us by New Order (Collaborative Filtering Based)\n",
      "Kein Mitleid by Eisbrecher (Content Based)\n",
      "Tostaky (Le Continent) by Noir Désir (Content Based)\n",
      "Easy Love by MSTRKRFT (Content Based)\n",
      "Avantasia by Avantasia (Content Based)\n",
      "Mysterious Skies by ATB (Content Based)\n"
     ]
    }
   ],
   "source": [
    "User_N=45\n",
    "# 3801 numbered user has 29 different musics\n",
    "# 692373 numbered user has 35 different musics\n",
    "# 693 numbered user has 2 different musics\n",
    "# 45 numbered user has 5 different musics\n",
    "\n",
    "# How many different music the user listened:\n",
    "print(df[df['user_id']==users[User_N]].shape[0])\n",
    "user_unique_music=df[df['user_id']==users[User_N]].shape[0]\n",
    "if user_unique_music>3 and user_unique_music<=5:\n",
    "    content_based_recommendations=kNN_recommend(User_N,df,df_music,indices,distances)\n",
    "    music_id, artists, tracks, scores = recommender.recommend(User_N, user_artists, n=5)\n",
    "    print(\"\\n Recommended Musics:\")\n",
    "    for artist, track in zip(artists, tracks):\n",
    "        print(f\"{artist} by {track} (Collaborative Filtering Based)\")\n",
    "    for music_index in content_based_recommendations:\n",
    "        print(f\"{df_music.iloc[int(music_index)]['name']} by {df_music.iloc[int(music_index)]['artist']} (Content Based)\")\n",
    "elif user_unique_music<=3:\n",
    "    content_based_recommendations=kNN_recommend(User_N,df,df_music,indices,distances,n_recommendations=10)\n",
    "    for music_index in content_based_recommendations:\n",
    "        print(f\"{df_music.iloc[int(music_index)]['name']} by {df_music.iloc[int(music_index)]['artist']} (Content Based)\")\n",
    "elif user_unique_music>5:\n",
    "    content_based_recommendations=kNN_recommend(User_N,df,df_music,indices,distances,n_recommendations=3)\n",
    "    music_id, artists, tracks, scores = recommender.recommend(User_N, user_artists, n=7)\n",
    "    print(\"\\n Recommend Musics:\")\n",
    "    for artist, track in zip(artists, tracks):\n",
    "        print(f\"{artist} by {track} (Collaborative Filtering Based)\")\n",
    "    for music_index in content_based_recommendations:\n",
    "        print(f\"{df_music.iloc[int(music_index)]['name']} by {df_music.iloc[int(music_index)]['artist']} (Content Based)\")"
   ]
  },
  {
   "cell_type": "code",
   "execution_count": 19,
   "metadata": {},
   "outputs": [
    {
     "name": "stdout",
     "output_type": "stream",
     "text": [
      "Number of users who listened to more than 5 different music tracks: 300053\n",
      "Percentage of users who listened to more than 5 different music tracks: 43.34%\n"
     ]
    }
   ],
   "source": [
    "import pandas as pd\n",
    "\n",
    "# Assuming 'df' is your DataFrame\n",
    "user_music_counts = df.groupby('user_id').size()\n",
    "\n",
    "# Count users with more than 5 different music tracks\n",
    "users_above_threshold = (user_music_counts > 3).sum()\n",
    "\n",
    "total_users = len(user_music_counts)\n",
    "\n",
    "print(f\"Number of users who listened to more than 5 different music tracks: {users_above_threshold}\")\n",
    "print(f\"Percentage of users who listened to more than 5 different music tracks: {(users_above_threshold / total_users) * 100:.2f}%\")"
   ]
  }
 ],
 "metadata": {
  "kernelspec": {
   "display_name": "Python 3",
   "language": "python",
   "name": "python3"
  },
  "language_info": {
   "codemirror_mode": {
    "name": "ipython",
    "version": 3
   },
   "file_extension": ".py",
   "mimetype": "text/x-python",
   "name": "python",
   "nbconvert_exporter": "python",
   "pygments_lexer": "ipython3",
   "version": "3.10.0"
  }
 },
 "nbformat": 4,
 "nbformat_minor": 2
}
