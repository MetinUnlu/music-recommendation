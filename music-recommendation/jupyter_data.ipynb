{
 "cells": [
  {
   "cell_type": "code",
   "execution_count": 3,
   "metadata": {},
   "outputs": [],
   "source": [
    "\"\"\"This module features functions and classes to manipulate data for the\n",
    "collaborative filtering algorithm.\n",
    "\"\"\"\n",
    "\n",
    "from pathlib import Path\n",
    "\n",
    "import scipy\n",
    "import pandas as pd\n",
    "\n",
    "\n",
    "def str_to_index(df,user_id='user_id',track_id='track_id'):\n",
    "    # Create a mapping from user IDs and track IDs to numeric indices\n",
    "    user_id_to_index = {user_id: i for i, user_id in enumerate(df.user_id.unique())}\n",
    "    track_id_to_index = {track_id: i for i, track_id in enumerate(df.track_id.unique())}\n",
    "\n",
    "    # Replace the strings with numeric indices\n",
    "    df['user'] = df.user_id.map(user_id_to_index)\n",
    "    df['track'] = df.track_id.map(track_id_to_index)\n",
    "\n",
    "    df.set_index([\"user\", \"track\"], inplace=True)\n",
    "\n",
    "    return df\n",
    "\n",
    "def load_user_artists(user_artists_file: Path) -> scipy.sparse.csr_matrix:\n",
    "    \"\"\"Load the user artists file and return a user-artists matrix in csr\n",
    "    fromat.\n",
    "    \"\"\"\n",
    "    user_artists = str_to_index(pd.read_csv(user_artists_file).drop(['Unnamed: 0'], axis=1))\n",
    "    # user_artists.set_index([\"user_id\", \"track_id\"], inplace=True)\n",
    "    coo = scipy.sparse.coo_matrix(\n",
    "        (\n",
    "            user_artists.normalized_playcount.astype(float),\n",
    "            (\n",
    "                user_artists.index.get_level_values(0),\n",
    "                user_artists.index.get_level_values(1),\n",
    "            ),\n",
    "        )\n",
    "    )\n",
    "    return coo.tocsr()\n",
    "\n",
    "\n",
    "class ArtistRetriever:\n",
    "    \"\"\"The ArtistRetriever class gets the artist name from the artist ID.\"\"\"\n",
    "\n",
    "    def __init__(self):\n",
    "        self._artists_df = None\n",
    "\n",
    "    def track_mapping(self,artists_df,interactin_df):\n",
    "        track_id_to_index = {track_id: i for i, track_id in enumerate(interactin_df.track_id.unique())}\n",
    "        artists_df['track']=artists_df['track_id'].map(track_id_to_index)\n",
    "        return artists_df\n",
    "\n",
    "    def get_artist_name_from_id(self, artist_id: int) -> str:\n",
    "        return self._artists_df.loc[artist_id, \"name\"]\n",
    "    def get_track_name_from_id(self, artist_id: int) -> str:\n",
    "        return self._artists_df.loc[artist_id, \"artist\"]\n",
    "\n",
    "    def load_artists(self, artists_file: Path, interaction_file: Path) -> None:\n",
    "        \"\"\"Load the artists file and stores it as a Pandas dataframe in a\n",
    "        private attribute.\n",
    "        \"\"\"\n",
    "        artists_df = pd.read_csv(artists_file)\n",
    "        interaction_df=pd.read_csv(interaction_file)\n",
    "        artists_df=self.track_mapping(artists_df,interaction_df)\n",
    "        artists_df = artists_df.set_index(\"track\")\n",
    "        self._artists_df = artists_df\n",
    "\n"
   ]
  },
  {
   "cell_type": "code",
   "execution_count": 8,
   "metadata": {},
   "outputs": [
    {
     "name": "stdout",
     "output_type": "stream",
     "text": [
      "  (0, 0)\t1.0\n",
      "  (1, 1)\t1.0\n",
      "  (2, 2)\t1.0\n",
      "  (3, 3)\t0.5\n",
      "  (3, 4)\t1.0\n",
      "  (3, 5)\t0.25\n",
      "  (4, 6)\t0.3333333333333333\n",
      "  (4, 7)\t1.0\n",
      "  (4, 8)\t0.3333333333333333\n",
      "  (4, 9)\t0.6666666666666666\n",
      "  (5, 10)\t0.6666666666666666\n",
      "  (5, 11)\t0.3333333333333333\n",
      "  (5, 12)\t0.6666666666666666\n",
      "  (5, 13)\t0.3333333333333333\n",
      "  (5, 14)\t0.3333333333333333\n",
      "  (5, 15)\t0.6666666666666666\n",
      "  (5, 16)\t0.6666666666666666\n",
      "  (5, 17)\t1.0\n",
      "  (5, 18)\t0.3333333333333333\n",
      "  (5, 19)\t0.3333333333333333\n",
      "  (5, 20)\t0.3333333333333333\n",
      "  (6, 21)\t0.25\n",
      "  (6, 22)\t0.25\n",
      "  (6, 23)\t1.0\n",
      "  (6, 24)\t0.25\n",
      "  :\t:\n",
      "  (692373, 197)\t0.1666666666666666\n",
      "  (692373, 198)\t0.1666666666666666\n",
      "  (692373, 199)\t0.3333333333333333\n",
      "  (692373, 201)\t0.1666666666666666\n",
      "  (692373, 287)\t0.5\n",
      "  (692373, 391)\t0.1666666666666666\n",
      "  (692373, 393)\t0.1666666666666666\n",
      "  (692373, 574)\t0.1666666666666666\n",
      "  (692373, 634)\t0.3333333333333333\n",
      "  (692373, 635)\t0.1666666666666666\n",
      "  (692373, 684)\t1.0\n",
      "  (692373, 792)\t0.6666666666666666\n",
      "  (692373, 1071)\t0.1666666666666666\n",
      "  (692373, 2047)\t0.5\n",
      "  (692373, 3042)\t0.1666666666666666\n",
      "  (692374, 1590)\t1.0\n",
      "  (692375, 876)\t0.2727272727272727\n",
      "  (692375, 952)\t0.9090909090909092\n",
      "  (692375, 1421)\t0.1818181818181818\n",
      "  (692375, 2065)\t0.4545454545454545\n",
      "  (692375, 2251)\t0.5454545454545454\n",
      "  (692375, 2661)\t0.6363636363636364\n",
      "  (692375, 3360)\t1.0\n",
      "  (692375, 10060)\t0.5454545454545454\n",
      "  (692375, 11646)\t1.0\n"
     ]
    }
   ],
   "source": [
    "user_artists_matrix = load_user_artists(\n",
    "    Path(\"../data/normalized_filtered_user_listening.csv\")\n",
    ")\n",
    "print(user_artists_matrix)"
   ]
  },
  {
   "cell_type": "code",
   "execution_count": 49,
   "metadata": {},
   "outputs": [
    {
     "name": "stdout",
     "output_type": "stream",
     "text": [
      "Sea Lion\n"
     ]
    }
   ],
   "source": [
    "artist_retriever = ArtistRetriever()\n",
    "music_path=\"../data/music_info.csv\"\n",
    "df_path=\"../data/normalized_filtered_user_listening.csv\"\n",
    "artist_retriever.load_artists(Path(music_path),Path(df_path))\n",
    "track_id=1\n",
    "artist = artist_retriever.get_artist_name_from_id(track_id)\n",
    "print(artist)"
   ]
  },
  {
   "cell_type": "code",
   "execution_count": 4,
   "metadata": {},
   "outputs": [],
   "source": [
    "\"\"\"This module features the ImplicitRecommender class that performs\n",
    "recommendation using the implicit library.\n",
    "\"\"\"\n",
    "\n",
    "\n",
    "from pathlib import Path\n",
    "from typing import Tuple, List\n",
    "\n",
    "import implicit\n",
    "import scipy\n",
    "\n",
    "# from musiccollaborativefiltering.data import load_user_artists, ArtistRetriever\n",
    "\n",
    "\n",
    "class ImplicitRecommender:\n",
    "    \"\"\"The ImplicitRecommender class computes recommendations for a given user\n",
    "    using the implicit library.\n",
    "\n",
    "    Attributes:\n",
    "        - artist_retriever: an ArtistRetriever instance\n",
    "        - implicit_model: an implicit model\n",
    "    \"\"\"\n",
    "\n",
    "    def __init__(\n",
    "        self,\n",
    "        artist_retriever: ArtistRetriever,\n",
    "        implicit_model: implicit.recommender_base.RecommenderBase,\n",
    "    ):\n",
    "        self.artist_retriever = artist_retriever\n",
    "        self.implicit_model = implicit_model\n",
    "\n",
    "    def fit(self, user_artists_matrix: scipy.sparse.csr_matrix) -> None:\n",
    "        \"\"\"Fit the model to the user artists matrix.\"\"\"\n",
    "        self.implicit_model.fit(user_artists_matrix)\n",
    "\n",
    "    def recommend(\n",
    "        self,\n",
    "        user_id: int,\n",
    "        user_artists_matrix: scipy.sparse.csr_matrix,\n",
    "        n: int = 10,\n",
    "    ) -> Tuple[List[str], List[float]]:\n",
    "        \"\"\"Return the top n recommendations for the given user.\"\"\"\n",
    "        artist_ids, scores = self.implicit_model.recommend(\n",
    "            user_id, user_artists_matrix[n], N=n\n",
    "        )\n",
    "        artists = [\n",
    "            self.artist_retriever.get_artist_name_from_id(artist_id)\n",
    "            for artist_id in artist_ids\n",
    "        ]\n",
    "        tracks = [\n",
    "            self.artist_retriever.get_track_name_from_id(artist_id)\n",
    "            for artist_id in artist_ids\n",
    "        ]\n",
    "        return artists, tracks, scores\n",
    "\n",
    "\n",
    "\n"
   ]
  },
  {
   "cell_type": "markdown",
   "metadata": {},
   "source": [
    "# Train Test Recommender Build With Evaluation"
   ]
  },
  {
   "cell_type": "code",
   "execution_count": 43,
   "metadata": {},
   "outputs": [
    {
     "data": {
      "application/vnd.jupyter.widget-view+json": {
       "model_id": "bde82bb3f0dc42da929d048809e4abfc",
       "version_major": 2,
       "version_minor": 0
      },
      "text/plain": [
       "  0%|          | 0/30 [00:00<?, ?it/s]"
      ]
     },
     "metadata": {},
     "output_type": "display_data"
    }
   ],
   "source": [
    "from implicit.evaluation import leave_k_out_split, precision_at_k, train_test_split\n",
    "\n",
    "music_path=\"../data/music_info.csv\"\n",
    "df_path=\"../data/normalized_filtered_user_listening.csv\"\n",
    "    \n",
    "# load user artists matrix\n",
    "user_artists = load_user_artists(Path(df_path))\n",
    "\n",
    "# instantiate artist retriever\n",
    "artist_retriever = ArtistRetriever()\n",
    "artist_retriever.load_artists(Path(music_path),Path(df_path))\n",
    "\n",
    "# instantiate ALS using implicit\n",
    "implict_model = implicit.als.AlternatingLeastSquares(\n",
    "    factors=50, iterations=30, regularization=0.01,  use_gpu=implicit.gpu.HAS_CUDA\n",
    ")\n",
    "train, test= train_test_split(user_artists, train_percentage=0.8)\n",
    "\n",
    "# instantiate recommender, fit, and recommend\n",
    "recommender = ImplicitRecommender(artist_retriever, implict_model)\n",
    "recommender.fit(train)\n",
    "\n"
   ]
  },
  {
   "cell_type": "code",
   "execution_count": 44,
   "metadata": {},
   "outputs": [
    {
     "data": {
      "application/vnd.jupyter.widget-view+json": {
       "model_id": "dcbbae6214784e25b284caa11fcdaba9",
       "version_major": 2,
       "version_minor": 0
      },
      "text/plain": [
       "  0%|          | 0/359331 [00:00<?, ?it/s]"
      ]
     },
     "metadata": {},
     "output_type": "display_data"
    }
   ],
   "source": [
    "# precision = precision_at_k(recommender.implicit_model,train,test)\n",
    "from implicit.evaluation import ranking_metrics_at_k\n",
    "evaluation= ranking_metrics_at_k(recommender.implicit_model,train,test)"
   ]
  },
  {
   "cell_type": "code",
   "execution_count": 45,
   "metadata": {},
   "outputs": [
    {
     "data": {
      "text/plain": [
       "{'precision': 0.07091151326745865,\n",
       " 'map': 0.03791456799176038,\n",
       " 'ndcg': 0.0518229615598299,\n",
       " 'auc': 0.5345274134470126}"
      ]
     },
     "execution_count": 45,
     "metadata": {},
     "output_type": "execute_result"
    }
   ],
   "source": [
    "evaluation"
   ]
  },
  {
   "cell_type": "markdown",
   "metadata": {},
   "source": [
    "# BRP Test\n"
   ]
  },
  {
   "cell_type": "code",
   "execution_count": 13,
   "metadata": {},
   "outputs": [],
   "source": [
    "from implicit.evaluation import leave_k_out_split, precision_at_k, train_test_split\n",
    "\n",
    "music_path=\"../data/music_info.csv\"\n",
    "df_path=\"../data/normalized_filtered_user_listening.csv\"\n",
    "    \n",
    "# load user artists matrix\n",
    "user_artists = load_user_artists(Path(df_path))\n",
    "\n",
    "# instantiate artist retriever\n",
    "artist_retriever = ArtistRetriever()\n",
    "artist_retriever.load_artists(Path(music_path),Path(df_path))\n",
    "\n",
    "# instantiate ALS using implicit   REMOVE USE_GPU IF HAS PROBLEM NEXT TIME\n",
    "implict_model = implicit.cpu.bpr.BayesianPersonalizedRanking(\n",
    "    factors=50, iterations=1500, regularization=0.01\n",
    ")\n",
    "train, test= train_test_split(user_artists, train_percentage=0.8)\n",
    "\n",
    "# instantiate recommender, fit, and recommend\n",
    "recommender = ImplicitRecommender(artist_retriever, implict_model)\n",
    "# recommender.fit(train)\n",
    "\n"
   ]
  },
  {
   "cell_type": "code",
   "execution_count": 4,
   "metadata": {},
   "outputs": [
    {
     "data": {
      "application/vnd.jupyter.widget-view+json": {
       "model_id": "a22a815bc24e4fe582e69764a05b1daf",
       "version_major": 2,
       "version_minor": 0
      },
      "text/plain": [
       "  0%|          | 0/358841 [00:00<?, ?it/s]"
      ]
     },
     "metadata": {},
     "output_type": "display_data"
    },
    {
     "data": {
      "text/plain": [
       "{'precision': 0.17437309895894793,\n",
       " 'map': 0.08949041708871283,\n",
       " 'ndcg': 0.1210256391935781,\n",
       " 'auc': 0.5851766632658045}"
      ]
     },
     "execution_count": 4,
     "metadata": {},
     "output_type": "execute_result"
    }
   ],
   "source": [
    "# precision = precision_at_k(recommender.implicit_model,train,test)\n",
    "from implicit.evaluation import ranking_metrics_at_k\n",
    "evaluation= ranking_metrics_at_k(recommender.implicit_model,train,test)\n",
    "evaluation"
   ]
  },
  {
   "cell_type": "markdown",
   "metadata": {},
   "source": [
    "# LogisticMatrixFactorization"
   ]
  },
  {
   "cell_type": "code",
   "execution_count": 65,
   "metadata": {},
   "outputs": [
    {
     "data": {
      "application/vnd.jupyter.widget-view+json": {
       "model_id": "a6ac0fc110274a5f971817c0c899376c",
       "version_major": 2,
       "version_minor": 0
      },
      "text/plain": [
       "  0%|          | 0/350 [00:00<?, ?it/s]"
      ]
     },
     "metadata": {},
     "output_type": "display_data"
    }
   ],
   "source": [
    "from implicit.evaluation import leave_k_out_split, precision_at_k, train_test_split\n",
    "\n",
    "music_path=\"../data/music_info.csv\"\n",
    "df_path=\"../data/normalized_filtered_user_listening.csv\"\n",
    "    \n",
    "# load user artists matrix\n",
    "user_artists = load_user_artists(Path(df_path))\n",
    "\n",
    "# instantiate artist retriever\n",
    "artist_retriever = ArtistRetriever()\n",
    "artist_retriever.load_artists(Path(music_path),Path(df_path))\n",
    "\n",
    "# instantiate ALS using implicit\n",
    "implict_model = implicit.cpu.lmf.LogisticMatrixFactorization(\n",
    "    factors=50, iterations=350, regularization=0.01\n",
    ")\n",
    "train, test= train_test_split(user_artists, train_percentage=0.8)\n",
    "\n",
    "# instantiate recommender, fit, and recommend\n",
    "recommender = ImplicitRecommender(artist_retriever, implict_model)\n",
    "recommender.fit(train)\n",
    "\n"
   ]
  },
  {
   "cell_type": "code",
   "execution_count": 66,
   "metadata": {},
   "outputs": [
    {
     "data": {
      "application/vnd.jupyter.widget-view+json": {
       "model_id": "c35789b656684af084832d7db49f6304",
       "version_major": 2,
       "version_minor": 0
      },
      "text/plain": [
       "  0%|          | 0/358686 [00:00<?, ?it/s]"
      ]
     },
     "metadata": {},
     "output_type": "display_data"
    },
    {
     "data": {
      "text/plain": [
       "{'precision': 0.03328953983495499,\n",
       " 'map': 0.011677252233224775,\n",
       " 'ndcg': 0.018300015743458783,\n",
       " 'auc': 0.5138439182556687}"
      ]
     },
     "execution_count": 66,
     "metadata": {},
     "output_type": "execute_result"
    }
   ],
   "source": [
    "# precision = precision_at_k(recommender.implicit_model,train,test)\n",
    "from implicit.evaluation import ranking_metrics_at_k\n",
    "evaluation= ranking_metrics_at_k(recommender.implicit_model,train,test)\n",
    "evaluation"
   ]
  },
  {
   "cell_type": "markdown",
   "metadata": {},
   "source": [
    "# Save Model"
   ]
  },
  {
   "cell_type": "code",
   "execution_count": 5,
   "metadata": {},
   "outputs": [],
   "source": [
    "## https://benfred.github.io/implicit/api/models/gpu/als.html\n",
    "recommender.implicit_model.save('800-BPS')"
   ]
  },
  {
   "cell_type": "code",
   "execution_count": 14,
   "metadata": {},
   "outputs": [],
   "source": [
    "recommender=recommender.implicit_model.load('800-BPS.npz')"
   ]
  },
  {
   "cell_type": "markdown",
   "metadata": {},
   "source": [
    "# Full Recommender Build"
   ]
  },
  {
   "cell_type": "code",
   "execution_count": null,
   "metadata": {},
   "outputs": [],
   "source": [
    "music_path=\"../data/music_info.csv\"\n",
    "df_path=\"../data/normalized_filtered_user_listening.csv\"\n",
    "    \n",
    "# load user artists matrix\n",
    "user_artists = load_user_artists(Path(df_path))\n",
    "\n",
    "# instantiate artist retriever\n",
    "artist_retriever = ArtistRetriever()\n",
    "artist_retriever.load_artists(Path(music_path),Path(df_path))\n",
    "\n",
    "# instantiate ALS using implicit\n",
    "implict_model = implicit.als.AlternatingLeastSquares(\n",
    "    factors=50, iterations=25, regularization=0.01,  use_gpu=implicit.gpu.HAS_CUDA\n",
    ")\n",
    "\n",
    "# instantiate recommender, fit, and recommend\n",
    "recommender = ImplicitRecommender(artist_retriever, implict_model)\n",
    "recommender.fit(user_artists)\n",
    "# artists, scores = recommender.recommend(2, user_artists, n=5)\n",
    "\n",
    "# # print results\n",
    "# for artist, score in zip(artists, scores):\n",
    "#     print(f\"{artist}: {score}\")"
   ]
  },
  {
   "cell_type": "markdown",
   "metadata": {},
   "source": [
    "#  Logging of Data Method"
   ]
  },
  {
   "cell_type": "code",
   "execution_count": null,
   "metadata": {},
   "outputs": [],
   "source": [
    "import tqdm\n",
    "import time\n",
    "import codecs\n",
    "import numpy as np\n",
    "import logging\n",
    "\n",
    "# Set the output filename\n",
    "output_filename = 'recommendationlog.txt'\n",
    "\n",
    "# Load the user listening data\n",
    "df_logging = pd.read_csv('../data/normalized_filtered_user_listening.csv').drop(['Unnamed: 0'], axis=1)\n",
    "\n",
    "# Extract unique user IDs\n",
    "users = df_logging.user_id.unique()\n",
    "\n",
    "# Extract the track IDs\n",
    "artist_df = df_logging['track_id']\n",
    "\n",
    "# Start timing the recommendation process\n",
    "start = time.time()\n",
    "\n",
    "# Specify the number of logs to generate\n",
    "# Max is 692999\n",
    "log_amount = 100000\n",
    "\n",
    "# Initialize a progress bar\n",
    "with tqdm.tqdm(total=log_amount) as progress:\n",
    "    # Open the output file for writing\n",
    "    with codecs.open(output_filename, \"w\", \"utf8\") as o:\n",
    "        # Set the batch size\n",
    "        batch_size = 1000\n",
    "        to_generate = np.arange(log_amount)\n",
    "        for startidx in range(0, len(to_generate), batch_size):\n",
    "            batch = to_generate[startidx : startidx + batch_size]\n",
    "            # Get recommendations for the batch of users\n",
    "            ids, scores = recommender.implicit_model.recommend(\n",
    "                batch, user_artists[batch], filter_already_liked_items=True\n",
    "            )\n",
    "            for i, userid in enumerate(batch):\n",
    "                username = users[userid]\n",
    "                for other, score in zip(ids[i], scores[i]):\n",
    "                    # print(other)  # Print the recommended item (for debugging)\n",
    "                    o.write(f\"{username}\\t{artist_df[other]}\\t{score}\\n\")\n",
    "            progress.update(len(batch))\n",
    "\n",
    "# Log the time taken for recommendation\n",
    "logging.debug(\"Generated recommendations in %0.2fs\", time.time() - start)"
   ]
  },
  {
   "cell_type": "code",
   "execution_count": 34,
   "metadata": {},
   "outputs": [
    {
     "name": "stdout",
     "output_type": "stream",
     "text": [
      "                                       User               Track     Score\n",
      "0  b80344d063b5ccb3212f76538f3d9e43d87dca9e  TRWYSES128F92FA039  0.000397\n",
      "1  b80344d063b5ccb3212f76538f3d9e43d87dca9e  TRQRMNO128F4235E4D  0.000300\n",
      "2  b80344d063b5ccb3212f76538f3d9e43d87dca9e  TRAFUNV128F92CFEB2  0.000187\n",
      "3  b80344d063b5ccb3212f76538f3d9e43d87dca9e  TRWAQOC12903CB84CA  0.000181\n",
      "4  b80344d063b5ccb3212f76538f3d9e43d87dca9e  TRIMYMS128E07840C8  0.000158\n"
     ]
    }
   ],
   "source": [
    "import pandas as pd\n",
    "\n",
    "# Specify the path to your log file\n",
    "log_file_path = 'recommendationlog.txt'\n",
    "\n",
    "# Read the tab-separated data into a DataFrame\n",
    "df = pd.read_csv(log_file_path, sep='\\t', header=None, names=['User', 'Track', 'Score'])\n",
    "\n",
    "# Now 'df' contains your data in a DataFrame format\n",
    "print(df.head())  # Display the first few rows"
   ]
  }
 ],
 "metadata": {
  "kernelspec": {
   "display_name": "Python 3",
   "language": "python",
   "name": "python3"
  },
  "language_info": {
   "codemirror_mode": {
    "name": "ipython",
    "version": 3
   },
   "file_extension": ".py",
   "mimetype": "text/x-python",
   "name": "python",
   "nbconvert_exporter": "python",
   "pygments_lexer": "ipython3",
   "version": "3.10.0"
  }
 },
 "nbformat": 4,
 "nbformat_minor": 2
}
